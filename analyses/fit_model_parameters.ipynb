{
 "cells": [
  {
   "cell_type": "code",
   "execution_count": 1,
   "metadata": {
    "collapsed": true
   },
   "outputs": [],
   "source": [
    "__depends__ = [\"../results/human_averages.csv\", \"../results/model.csv\"]\n",
    "__dest__ = [\"../figures/model_v_human.pdf\", \"../results/model_v_human.tex\"]"
   ]
  },
  {
   "cell_type": "code",
   "execution_count": 2,
   "metadata": {
    "collapsed": true
   },
   "outputs": [],
   "source": [
    "%matplotlib inline\n",
    "import numpy as np\n",
    "import pandas as pd\n",
    "import scipy.optimize\n",
    "import matplotlib.pyplot as plt\n",
    "import seaborn as sns\n",
    "import util"
   ]
  },
  {
   "cell_type": "code",
   "execution_count": 3,
   "metadata": {
    "collapsed": false
   },
   "outputs": [
    {
     "data": {
      "text/html": [
       "<div>\n",
       "<table border=\"1\" class=\"dataframe\">\n",
       "  <thead>\n",
       "    <tr style=\"text-align: right;\">\n",
       "      <th></th>\n",
       "      <th>x</th>\n",
       "      <th>lower</th>\n",
       "      <th>median</th>\n",
       "      <th>upper</th>\n",
       "      <th>mean</th>\n",
       "      <th>lerr</th>\n",
       "      <th>uerr</th>\n",
       "    </tr>\n",
       "    <tr>\n",
       "      <th>stimulus</th>\n",
       "      <th></th>\n",
       "      <th></th>\n",
       "      <th></th>\n",
       "      <th></th>\n",
       "      <th></th>\n",
       "      <th></th>\n",
       "      <th></th>\n",
       "    </tr>\n",
       "  </thead>\n",
       "  <tbody>\n",
       "    <tr>\n",
       "      <th>0</th>\n",
       "      <td>0.000000</td>\n",
       "      <td>0.008356</td>\n",
       "      <td>0.011539</td>\n",
       "      <td>0.015389</td>\n",
       "      <td>0.011696</td>\n",
       "      <td>0.003340</td>\n",
       "      <td>0.003694</td>\n",
       "    </tr>\n",
       "    <tr>\n",
       "      <th>1</th>\n",
       "      <td>0.028571</td>\n",
       "      <td>0.009862</td>\n",
       "      <td>0.012827</td>\n",
       "      <td>0.016178</td>\n",
       "      <td>0.012913</td>\n",
       "      <td>0.003051</td>\n",
       "      <td>0.003265</td>\n",
       "    </tr>\n",
       "    <tr>\n",
       "      <th>2</th>\n",
       "      <td>0.057143</td>\n",
       "      <td>0.014842</td>\n",
       "      <td>0.018581</td>\n",
       "      <td>0.023324</td>\n",
       "      <td>0.018709</td>\n",
       "      <td>0.003866</td>\n",
       "      <td>0.004616</td>\n",
       "    </tr>\n",
       "    <tr>\n",
       "      <th>3</th>\n",
       "      <td>0.085714</td>\n",
       "      <td>0.020169</td>\n",
       "      <td>0.026024</td>\n",
       "      <td>0.033465</td>\n",
       "      <td>0.026261</td>\n",
       "      <td>0.006093</td>\n",
       "      <td>0.007204</td>\n",
       "    </tr>\n",
       "    <tr>\n",
       "      <th>4</th>\n",
       "      <td>0.114286</td>\n",
       "      <td>0.027964</td>\n",
       "      <td>0.035505</td>\n",
       "      <td>0.045211</td>\n",
       "      <td>0.035916</td>\n",
       "      <td>0.007953</td>\n",
       "      <td>0.009295</td>\n",
       "    </tr>\n",
       "  </tbody>\n",
       "</table>\n",
       "</div>"
      ],
      "text/plain": [
       "                 x     lower    median     upper      mean      lerr      uerr\n",
       "stimulus                                                                      \n",
       "0         0.000000  0.008356  0.011539  0.015389  0.011696  0.003340  0.003694\n",
       "1         0.028571  0.009862  0.012827  0.016178  0.012913  0.003051  0.003265\n",
       "2         0.057143  0.014842  0.018581  0.023324  0.018709  0.003866  0.004616\n",
       "3         0.085714  0.020169  0.026024  0.033465  0.026261  0.006093  0.007204\n",
       "4         0.114286  0.027964  0.035505  0.045211  0.035916  0.007953  0.009295"
      ]
     },
     "execution_count": 3,
     "metadata": {},
     "output_type": "execute_result"
    }
   ],
   "source": [
    "# Load in the human data\n",
    "human = pd.read_csv(__depends__[0]).set_index('stimulus').sortlevel()\n",
    "human.head()"
   ]
  },
  {
   "cell_type": "code",
   "execution_count": 4,
   "metadata": {
    "collapsed": false
   },
   "outputs": [
    {
     "data": {
      "text/html": [
       "<div>\n",
       "<table border=\"1\" class=\"dataframe\">\n",
       "  <thead>\n",
       "    <tr style=\"text-align: right;\">\n",
       "      <th></th>\n",
       "      <th>x</th>\n",
       "      <th>y</th>\n",
       "    </tr>\n",
       "    <tr>\n",
       "      <th>stimulus</th>\n",
       "      <th></th>\n",
       "      <th></th>\n",
       "    </tr>\n",
       "  </thead>\n",
       "  <tbody>\n",
       "    <tr>\n",
       "      <th>0</th>\n",
       "      <td>0.000000</td>\n",
       "      <td>0.246047</td>\n",
       "    </tr>\n",
       "    <tr>\n",
       "      <th>1</th>\n",
       "      <td>0.028571</td>\n",
       "      <td>0.263991</td>\n",
       "    </tr>\n",
       "    <tr>\n",
       "      <th>2</th>\n",
       "      <td>0.057143</td>\n",
       "      <td>0.276916</td>\n",
       "    </tr>\n",
       "    <tr>\n",
       "      <th>3</th>\n",
       "      <td>0.085714</td>\n",
       "      <td>0.304670</td>\n",
       "    </tr>\n",
       "    <tr>\n",
       "      <th>4</th>\n",
       "      <td>0.114286</td>\n",
       "      <td>0.311580</td>\n",
       "    </tr>\n",
       "  </tbody>\n",
       "</table>\n",
       "</div>"
      ],
      "text/plain": [
       "                 x         y\n",
       "stimulus                    \n",
       "0         0.000000  0.246047\n",
       "1         0.028571  0.263991\n",
       "2         0.057143  0.276916\n",
       "3         0.085714  0.304670\n",
       "4         0.114286  0.311580"
      ]
     },
     "execution_count": 4,
     "metadata": {},
     "output_type": "execute_result"
    }
   ],
   "source": [
    "# Load in the model data\n",
    "model = pd.read_csv(__depends__[1]).set_index('stimulus').sortlevel()\n",
    "model.head()"
   ]
  },
  {
   "cell_type": "code",
   "execution_count": 5,
   "metadata": {
    "collapsed": false
   },
   "outputs": [
    {
     "data": {
      "text/plain": [
       "16.888968071661484"
      ]
     },
     "execution_count": 5,
     "metadata": {},
     "output_type": "execute_result"
    }
   ],
   "source": [
    "# Fit the model to the human data using logistic regression\n",
    "def f(beta):\n",
    "    yp = util.sigmoid(model[\"y\"], beta)\n",
    "    err = np.sqrt(np.sum((yp - human[\"mean\"]) ** 2))\n",
    "    return err\n",
    "\n",
    "res = scipy.optimize.minimize_scalar(f)\n",
    "beta = res['x']\n",
    "beta"
   ]
  },
  {
   "cell_type": "code",
   "execution_count": 6,
   "metadata": {
    "collapsed": false
   },
   "outputs": [
    {
     "data": {
      "text/plain": [
       "stimulus\n",
       "0    0.013533\n",
       "1    0.018236\n",
       "2    0.022584\n",
       "3    0.035608\n",
       "4    0.039840\n",
       "Name: y, dtype: float64"
      ]
     },
     "execution_count": 6,
     "metadata": {},
     "output_type": "execute_result"
    }
   ],
   "source": [
    "# Compute predictions for the fitted model\n",
    "fitted_model = util.sigmoid(model[\"y\"], beta)\n",
    "fitted_model.head()"
   ]
  },
  {
   "cell_type": "code",
   "execution_count": 7,
   "metadata": {
    "collapsed": false
   },
   "outputs": [
    {
     "data": {
      "text/plain": [
       "lower     0.966767\n",
       "median    0.976973\n",
       "upper     0.984901\n",
       "corr      0.976249\n",
       "dtype: float64"
      ]
     },
     "execution_count": 7,
     "metadata": {},
     "output_type": "execute_result"
    }
   ],
   "source": [
    "# Compute the correlation between the raw model results and average human responses\n",
    "corrs = util.bootcorr(model[\"y\"], human[\"mean\"])\n",
    "corrs.head()"
   ]
  },
  {
   "cell_type": "code",
   "execution_count": 8,
   "metadata": {
    "collapsed": false
   },
   "outputs": [
    {
     "data": {
      "text/plain": [
       "lower     0.992339\n",
       "median    0.996174\n",
       "upper     0.998658\n",
       "corr      0.996003\n",
       "dtype: float64"
      ]
     },
     "execution_count": 8,
     "metadata": {},
     "output_type": "execute_result"
    }
   ],
   "source": [
    "# Compute the correlation between the fitted model results and the average human responses\n",
    "fitted_corrs = util.bootcorr(fitted_model, human[\"mean\"])\n",
    "fitted_corrs.head()"
   ]
  },
  {
   "cell_type": "code",
   "execution_count": 9,
   "metadata": {
    "collapsed": false
   },
   "outputs": [
    {
     "data": {
      "image/png": "[encoded data removed]",
      "text/plain": [
       "<matplotlib.figure.Figure at 0x114893b38>"
      ]
     },
     "metadata": {},
     "output_type": "display_data"
    }
   ],
   "source": [
    "# Plot both the raw and fitted models against human data\n",
    "sns.set_style(\"white\")\n",
    "sns.set_context(\"talk\")\n",
    "\n",
    "fig, (ax1, ax2) = plt.subplots(1, 2, sharey=True)\n",
    "\n",
    "ax1.errorbar(\n",
    "    model[\"y\"], human[\"mean\"], \n",
    "    yerr=[human[\"lerr\"],  human[\"uerr\"]], \n",
    "    marker='o', linestyle='',color='k')\n",
    "ax1.set_xlabel(\"Raw model responses\")\n",
    "ax1.set_ylabel(\"Human responses\")\n",
    "ax1.set_xlim(0, 1)\n",
    "ax1.set_ylim(0, 1)\n",
    "corrstr = r\"$r={corr:.2f},\\ 95\\%\\ \\mathrm{{CI}}\\ [{lower:.2f}, {upper:.2f}]$\".format(**corrs)\n",
    "ax1.text(1, 0.02, corrstr, horizontalalignment='right')\n",
    "\n",
    "ax2.errorbar(\n",
    "    fitted_model, human[\"mean\"], \n",
    "    yerr=[human[\"lerr\"],  human[\"uerr\"]], \n",
    "    marker='o', linestyle='',color='k')\n",
    "ax2.set_xlabel(\"Fitted model responses\")\n",
    "ax2.set_xlim(0, 1)\n",
    "corrstr = r\"$r={corr:.2f},\\ 95\\%\\ \\mathrm{{CI}}\\ [{lower:.2f}, {upper:.2f}]$\".format(**fitted_corrs)\n",
    "ax2.text(1, 0.02, corrstr, horizontalalignment='right')\n",
    "\n",
    "sns.despine()\n",
    "fig.set_size_inches(16, 6)\n",
    "plt.tight_layout()\n",
    "plt.savefig(__dest__[0])"
   ]
  },
  {
   "cell_type": "code",
   "execution_count": 10,
   "metadata": {
    "collapsed": false
   },
   "outputs": [
    {
     "name": "stdout",
     "output_type": "stream",
     "text": [
      "\\newcommand{\\ModelVHumanCorr}[0]{r=0.98,\\ 95\\%\\ \\mathrm{CI}\\ [0.97, 0.98]}\n",
      "\\newcommand{\\FittedModelVHumanCorr}[0]{r=1.00,\\ 95\\%\\ \\mathrm{CI}\\ [0.99, 1.00]}\n",
      "\\newcommand{\\FittedBeta}[0]{\\beta=16.89}\n"
     ]
    }
   ],
   "source": [
    "# Save out the correlations and fitted parameter values \n",
    "# as LaTeX commands for use in the paper\n",
    "def newcommand(name, val):\n",
    "    fmt = \"\\\\newcommand{{\\\\{name}}}[0]{{{action}}}\"\n",
    "    cmd = fmt.format(name=name, action=val)\n",
    "    print(cmd)\n",
    "    return cmd + \"\\n\"\n",
    "\n",
    "latex_pearsonr = r\"r={corr:.2f},\\ 95\\%\\ \\mathrm{{CI}}\\ [{lower:.2f}, {upper:.2f}]\"\n",
    "latex_beta = r\"\\beta={beta:.2f}\"\n",
    "\n",
    "cmds = [\n",
    "    newcommand(\n",
    "        \"ModelVHumanCorr\",\n",
    "        latex_pearsonr.format(**corrs)),\n",
    "    newcommand(\n",
    "        \"FittedModelVHumanCorr\",\n",
    "        latex_pearsonr.format(**fitted_corrs)),\n",
    "    newcommand(\n",
    "        \"FittedBeta\",\n",
    "        latex_beta.format(beta=beta))\n",
    "]\n",
    "\n",
    "with open(__dest__[1], \"w\") as fh:\n",
    "    for cmd in cmds:\n",
    "        fh.write(cmd)"
   ]
  },
  {
   "cell_type": "code",
   "execution_count": 11,
   "metadata": {
    "collapsed": true
   },
   "outputs": [],
   "source": []
  },
  {
   "cell_type": "code",
   "execution_count": 11,
   "metadata": {
    "collapsed": true
   },
   "outputs": [],
   "source": []
  },
  {
   "cell_type": "code",
   "execution_count": 11,
   "metadata": {
    "collapsed": true
   },
   "outputs": [],
   "source": []
  },
  {
   "cell_type": "code",
   "execution_count": 11,
   "metadata": {
    "collapsed": true
   },
   "outputs": [],
   "source": []
  }
 ],
 "metadata": {
  "anaconda-cloud": {},
  "kernelspec": {
   "display_name": "Python 3",
   "language": "python",
   "name": "python3"
  },
  "language_info": {
   "codemirror_mode": {
    "name": "ipython",
    "version": 3
   },
   "file_extension": ".py",
   "mimetype": "text/x-python",
   "name": "python",
   "nbconvert_exporter": "python",
   "pygments_lexer": "ipython3",
   "version": "3.5.2"
  }
 },
 "nbformat": 4,
 "nbformat_minor": 0
}